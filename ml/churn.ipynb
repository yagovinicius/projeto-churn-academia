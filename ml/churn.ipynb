{
 "cells": [
  {
   "cell_type": "markdown",
   "id": "805ebe28",
   "metadata": {},
   "source": [
    "<h1 id='inicio'>Análise Churn - Alunos de Academia</h1>\n",
    "\n",
    "Etapas:\n",
    "\n",
    "[0 - Introdução de dados](#intro)  \n",
    "[1 - Tratamento de dados](#tratamento)  \n",
    "[2 - Limpeza de dados](#limpeza)  \n",
    "[3 - Preparando dados para aplicar os modelos](#preparando)  \n",
    "[4 - Aplicando e avaliando modelos](#modelos)  \n",
    "[5 - Considerações finais e dump do modelo](#fim)"
   ]
  },
  {
   "cell_type": "markdown",
   "id": "e3aa83b1",
   "metadata": {},
   "source": [
    "<h1 id=\"intro\">0 - Introdução de dados</h1>"
   ]
  },
  {
   "cell_type": "markdown",
   "id": "da9aaae0",
   "metadata": {},
   "source": [
    "### Importando bibliotecas iniciais"
   ]
  },
  {
   "cell_type": "code",
   "execution_count": 3042,
   "id": "bf24fe04",
   "metadata": {},
   "outputs": [],
   "source": [
    "# para análise\n",
    "import pandas as pd\n",
    "from sqlalchemy import create_engine\n",
    "\n",
    "# para conexão\n",
    "import os\n",
    "from urllib.parse import quote\n",
    "from dotenv import load_dotenv\n",
    "from sqlalchemy import create_engine"
   ]
  },
  {
   "cell_type": "markdown",
   "id": "df68d0c9",
   "metadata": {},
   "source": [
    "### Criando conexão com o banco de dados"
   ]
  },
  {
   "cell_type": "code",
   "execution_count": 3043,
   "id": "bc85b684",
   "metadata": {},
   "outputs": [],
   "source": [
    "# carregando aquivo .env\n",
    "load_dotenv()\n",
    "\n",
    "usuario = os.getenv('POSTGRES_USER')\n",
    "senha = quote(os.getenv('POSTGRES_PASSWORD'))\n",
    "host = os.getenv('POSTGRES_HOST')\n",
    "porta = os.getenv('POSTGRES_PORT')\n",
    "banco = os.getenv('POSTGRES_DB')\n",
    "\n",
    "engine = create_engine(f'postgresql+psycopg2://{usuario}:{senha}@{host}:{porta}/{banco}')"
   ]
  },
  {
   "cell_type": "markdown",
   "id": "6a75a752",
   "metadata": {},
   "source": [
    "### Visualizando dados"
   ]
  },
  {
   "cell_type": "code",
   "execution_count": 3044,
   "id": "2ca8c47f",
   "metadata": {},
   "outputs": [
    {
     "data": {
      "text/html": [
       "<div>\n",
       "<style scoped>\n",
       "    .dataframe tbody tr th:only-of-type {\n",
       "        vertical-align: middle;\n",
       "    }\n",
       "\n",
       "    .dataframe tbody tr th {\n",
       "        vertical-align: top;\n",
       "    }\n",
       "\n",
       "    .dataframe thead th {\n",
       "        text-align: right;\n",
       "    }\n",
       "</style>\n",
       "<table border=\"1\" class=\"dataframe\">\n",
       "  <thead>\n",
       "    <tr style=\"text-align: right;\">\n",
       "      <th></th>\n",
       "      <th>id</th>\n",
       "      <th>nome</th>\n",
       "      <th>sexo</th>\n",
       "      <th>email</th>\n",
       "      <th>senha</th>\n",
       "      <th>ativo</th>\n",
       "      <th>data_nascimento</th>\n",
       "      <th>plano_id</th>\n",
       "      <th>data_cadastro</th>\n",
       "    </tr>\n",
       "  </thead>\n",
       "  <tbody>\n",
       "    <tr>\n",
       "      <th>0</th>\n",
       "      <td>1</td>\n",
       "      <td>Maria Isis Gonçalves</td>\n",
       "      <td>Feminino</td>\n",
       "      <td>silvabeatriz@example.net</td>\n",
       "      <td>$2b$12$dBI9zvImisX79iAuV2ecUuUsKgOsNrctrLCF0Ob...</td>\n",
       "      <td>True</td>\n",
       "      <td>1984-06-04</td>\n",
       "      <td>1</td>\n",
       "      <td>2025-06-23 03:35:13.894937+00:00</td>\n",
       "    </tr>\n",
       "    <tr>\n",
       "      <th>1</th>\n",
       "      <td>2</td>\n",
       "      <td>Rebeca Cirino</td>\n",
       "      <td>Feminino</td>\n",
       "      <td>barrosluiz-otavio@example.com</td>\n",
       "      <td>$2b$12$18PQtRqCTX1bZw9je/4xzOFkYT.mO6ibdjstASU...</td>\n",
       "      <td>True</td>\n",
       "      <td>1997-10-30</td>\n",
       "      <td>1</td>\n",
       "      <td>2025-06-23 03:35:14.166553+00:00</td>\n",
       "    </tr>\n",
       "    <tr>\n",
       "      <th>2</th>\n",
       "      <td>3</td>\n",
       "      <td>Melissa Campos</td>\n",
       "      <td>Feminino</td>\n",
       "      <td>benicioviana@example.net</td>\n",
       "      <td>$2b$12$FjamLZgEPcYsLMdMHfnxRuwp2lH8srhIVd3O9EB...</td>\n",
       "      <td>True</td>\n",
       "      <td>1999-04-27</td>\n",
       "      <td>1</td>\n",
       "      <td>2025-06-23 03:35:14.437300+00:00</td>\n",
       "    </tr>\n",
       "    <tr>\n",
       "      <th>3</th>\n",
       "      <td>4</td>\n",
       "      <td>Letícia Ribeiro</td>\n",
       "      <td>Feminino</td>\n",
       "      <td>yuri85@example.com</td>\n",
       "      <td>$2b$12$wYSuERRIC29AFuAwgz1bJuFZDJJTZ65K.XvEcn3...</td>\n",
       "      <td>True</td>\n",
       "      <td>1982-04-11</td>\n",
       "      <td>1</td>\n",
       "      <td>2025-06-23 03:35:14.700603+00:00</td>\n",
       "    </tr>\n",
       "    <tr>\n",
       "      <th>4</th>\n",
       "      <td>5</td>\n",
       "      <td>Melina Novais</td>\n",
       "      <td>Feminino</td>\n",
       "      <td>arthur-gabriel86@example.net</td>\n",
       "      <td>$2b$12$MbcKKBpvo4xTiJqZ6nKmD.l8d51h6G7AHFPE6TU...</td>\n",
       "      <td>True</td>\n",
       "      <td>1964-04-28</td>\n",
       "      <td>1</td>\n",
       "      <td>2025-06-23 03:35:14.964289+00:00</td>\n",
       "    </tr>\n",
       "    <tr>\n",
       "      <th>...</th>\n",
       "      <td>...</td>\n",
       "      <td>...</td>\n",
       "      <td>...</td>\n",
       "      <td>...</td>\n",
       "      <td>...</td>\n",
       "      <td>...</td>\n",
       "      <td>...</td>\n",
       "      <td>...</td>\n",
       "      <td>...</td>\n",
       "    </tr>\n",
       "    <tr>\n",
       "      <th>995</th>\n",
       "      <td>996</td>\n",
       "      <td>Antônio Ferreira</td>\n",
       "      <td>Masculino</td>\n",
       "      <td>ravy77@example.com</td>\n",
       "      <td>$2b$12$JxNRA6PW/onaY3lvUCkmZ.3cblevkGyRFHs13.L...</td>\n",
       "      <td>True</td>\n",
       "      <td>2006-05-29</td>\n",
       "      <td>4</td>\n",
       "      <td>2025-06-23 03:39:59.348631+00:00</td>\n",
       "    </tr>\n",
       "    <tr>\n",
       "      <th>996</th>\n",
       "      <td>997</td>\n",
       "      <td>Lorenzo Monteiro</td>\n",
       "      <td>Masculino</td>\n",
       "      <td>joao-miguel00@example.com</td>\n",
       "      <td>$2b$12$cN2PjvhUWiXKi6jvH2IqTOkCOEpp1DAeNQACCK/...</td>\n",
       "      <td>True</td>\n",
       "      <td>1990-10-12</td>\n",
       "      <td>4</td>\n",
       "      <td>2025-06-23 03:39:59.648886+00:00</td>\n",
       "    </tr>\n",
       "    <tr>\n",
       "      <th>997</th>\n",
       "      <td>998</td>\n",
       "      <td>Julia Araújo</td>\n",
       "      <td>Feminino</td>\n",
       "      <td>cecilia60@example.net</td>\n",
       "      <td>$2b$12$nd9ceLfgo9jyKW95I4LuXu2SP6yWiQUNAcRzWBD...</td>\n",
       "      <td>True</td>\n",
       "      <td>1986-12-27</td>\n",
       "      <td>4</td>\n",
       "      <td>2025-06-23 03:39:59.966119+00:00</td>\n",
       "    </tr>\n",
       "    <tr>\n",
       "      <th>998</th>\n",
       "      <td>999</td>\n",
       "      <td>Calebe das Neves</td>\n",
       "      <td>Masculino</td>\n",
       "      <td>mendoncamarcela@example.net</td>\n",
       "      <td>$2b$12$DZpYP5pJcp7na7GzEJc6SO2SM0FwzeDllvl0HpO...</td>\n",
       "      <td>True</td>\n",
       "      <td>1974-11-09</td>\n",
       "      <td>4</td>\n",
       "      <td>2025-06-23 03:40:00.317314+00:00</td>\n",
       "    </tr>\n",
       "    <tr>\n",
       "      <th>999</th>\n",
       "      <td>1000</td>\n",
       "      <td>Pietro Campos</td>\n",
       "      <td>Masculino</td>\n",
       "      <td>camilapacheco@example.org</td>\n",
       "      <td>$2b$12$rzb..mZFyViLUmb1cU.3BeWGsB1NyRqoS8gFvrx...</td>\n",
       "      <td>True</td>\n",
       "      <td>1961-05-09</td>\n",
       "      <td>4</td>\n",
       "      <td>2025-06-23 03:40:00.597498+00:00</td>\n",
       "    </tr>\n",
       "  </tbody>\n",
       "</table>\n",
       "<p>1000 rows × 9 columns</p>\n",
       "</div>"
      ],
      "text/plain": [
       "       id                  nome       sexo                          email  \\\n",
       "0       1  Maria Isis Gonçalves   Feminino       silvabeatriz@example.net   \n",
       "1       2         Rebeca Cirino   Feminino  barrosluiz-otavio@example.com   \n",
       "2       3        Melissa Campos   Feminino       benicioviana@example.net   \n",
       "3       4       Letícia Ribeiro   Feminino             yuri85@example.com   \n",
       "4       5         Melina Novais   Feminino   arthur-gabriel86@example.net   \n",
       "..    ...                   ...        ...                            ...   \n",
       "995   996      Antônio Ferreira  Masculino             ravy77@example.com   \n",
       "996   997      Lorenzo Monteiro  Masculino      joao-miguel00@example.com   \n",
       "997   998          Julia Araújo   Feminino          cecilia60@example.net   \n",
       "998   999      Calebe das Neves  Masculino    mendoncamarcela@example.net   \n",
       "999  1000         Pietro Campos  Masculino      camilapacheco@example.org   \n",
       "\n",
       "                                                 senha  ativo data_nascimento  \\\n",
       "0    $2b$12$dBI9zvImisX79iAuV2ecUuUsKgOsNrctrLCF0Ob...   True      1984-06-04   \n",
       "1    $2b$12$18PQtRqCTX1bZw9je/4xzOFkYT.mO6ibdjstASU...   True      1997-10-30   \n",
       "2    $2b$12$FjamLZgEPcYsLMdMHfnxRuwp2lH8srhIVd3O9EB...   True      1999-04-27   \n",
       "3    $2b$12$wYSuERRIC29AFuAwgz1bJuFZDJJTZ65K.XvEcn3...   True      1982-04-11   \n",
       "4    $2b$12$MbcKKBpvo4xTiJqZ6nKmD.l8d51h6G7AHFPE6TU...   True      1964-04-28   \n",
       "..                                                 ...    ...             ...   \n",
       "995  $2b$12$JxNRA6PW/onaY3lvUCkmZ.3cblevkGyRFHs13.L...   True      2006-05-29   \n",
       "996  $2b$12$cN2PjvhUWiXKi6jvH2IqTOkCOEpp1DAeNQACCK/...   True      1990-10-12   \n",
       "997  $2b$12$nd9ceLfgo9jyKW95I4LuXu2SP6yWiQUNAcRzWBD...   True      1986-12-27   \n",
       "998  $2b$12$DZpYP5pJcp7na7GzEJc6SO2SM0FwzeDllvl0HpO...   True      1974-11-09   \n",
       "999  $2b$12$rzb..mZFyViLUmb1cU.3BeWGsB1NyRqoS8gFvrx...   True      1961-05-09   \n",
       "\n",
       "     plano_id                    data_cadastro  \n",
       "0           1 2025-06-23 03:35:13.894937+00:00  \n",
       "1           1 2025-06-23 03:35:14.166553+00:00  \n",
       "2           1 2025-06-23 03:35:14.437300+00:00  \n",
       "3           1 2025-06-23 03:35:14.700603+00:00  \n",
       "4           1 2025-06-23 03:35:14.964289+00:00  \n",
       "..        ...                              ...  \n",
       "995         4 2025-06-23 03:39:59.348631+00:00  \n",
       "996         4 2025-06-23 03:39:59.648886+00:00  \n",
       "997         4 2025-06-23 03:39:59.966119+00:00  \n",
       "998         4 2025-06-23 03:40:00.317314+00:00  \n",
       "999         4 2025-06-23 03:40:00.597498+00:00  \n",
       "\n",
       "[1000 rows x 9 columns]"
      ]
     },
     "metadata": {},
     "output_type": "display_data"
    }
   ],
   "source": [
    "# importando base de dados alunos\n",
    "base_alunos = pd.read_sql(\"SELECT * FROM alunos\", con=engine)\n",
    "display(base_alunos)"
   ]
  },
  {
   "cell_type": "code",
   "execution_count": 3045,
   "id": "6accf405",
   "metadata": {},
   "outputs": [
    {
     "data": {
      "text/html": [
       "<div>\n",
       "<style scoped>\n",
       "    .dataframe tbody tr th:only-of-type {\n",
       "        vertical-align: middle;\n",
       "    }\n",
       "\n",
       "    .dataframe tbody tr th {\n",
       "        vertical-align: top;\n",
       "    }\n",
       "\n",
       "    .dataframe thead th {\n",
       "        text-align: right;\n",
       "    }\n",
       "</style>\n",
       "<table border=\"1\" class=\"dataframe\">\n",
       "  <thead>\n",
       "    <tr style=\"text-align: right;\">\n",
       "      <th></th>\n",
       "      <th>id</th>\n",
       "      <th>aluno_id</th>\n",
       "      <th>data</th>\n",
       "      <th>hora</th>\n",
       "    </tr>\n",
       "  </thead>\n",
       "  <tbody>\n",
       "    <tr>\n",
       "      <th>0</th>\n",
       "      <td>1</td>\n",
       "      <td>1</td>\n",
       "      <td>2025-05-31</td>\n",
       "      <td>2025-05-31 07:00:00+00:00</td>\n",
       "    </tr>\n",
       "    <tr>\n",
       "      <th>1</th>\n",
       "      <td>2</td>\n",
       "      <td>1</td>\n",
       "      <td>2025-06-01</td>\n",
       "      <td>2025-06-01 07:00:00+00:00</td>\n",
       "    </tr>\n",
       "    <tr>\n",
       "      <th>2</th>\n",
       "      <td>3</td>\n",
       "      <td>1</td>\n",
       "      <td>2025-06-03</td>\n",
       "      <td>2025-06-03 07:00:00+00:00</td>\n",
       "    </tr>\n",
       "    <tr>\n",
       "      <th>3</th>\n",
       "      <td>4</td>\n",
       "      <td>1</td>\n",
       "      <td>2025-06-06</td>\n",
       "      <td>2025-06-06 07:00:00+00:00</td>\n",
       "    </tr>\n",
       "    <tr>\n",
       "      <th>4</th>\n",
       "      <td>5</td>\n",
       "      <td>1</td>\n",
       "      <td>2025-06-15</td>\n",
       "      <td>2025-06-15 07:00:00+00:00</td>\n",
       "    </tr>\n",
       "    <tr>\n",
       "      <th>...</th>\n",
       "      <td>...</td>\n",
       "      <td>...</td>\n",
       "      <td>...</td>\n",
       "      <td>...</td>\n",
       "    </tr>\n",
       "    <tr>\n",
       "      <th>8423</th>\n",
       "      <td>8424</td>\n",
       "      <td>1000</td>\n",
       "      <td>2025-04-19</td>\n",
       "      <td>2025-04-19 07:00:00+00:00</td>\n",
       "    </tr>\n",
       "    <tr>\n",
       "      <th>8424</th>\n",
       "      <td>8425</td>\n",
       "      <td>1000</td>\n",
       "      <td>2025-04-20</td>\n",
       "      <td>2025-04-20 07:00:00+00:00</td>\n",
       "    </tr>\n",
       "    <tr>\n",
       "      <th>8425</th>\n",
       "      <td>8426</td>\n",
       "      <td>1000</td>\n",
       "      <td>2025-04-26</td>\n",
       "      <td>2025-04-26 07:00:00+00:00</td>\n",
       "    </tr>\n",
       "    <tr>\n",
       "      <th>8426</th>\n",
       "      <td>8427</td>\n",
       "      <td>1000</td>\n",
       "      <td>2025-05-02</td>\n",
       "      <td>2025-05-02 07:00:00+00:00</td>\n",
       "    </tr>\n",
       "    <tr>\n",
       "      <th>8427</th>\n",
       "      <td>8428</td>\n",
       "      <td>1000</td>\n",
       "      <td>2025-05-04</td>\n",
       "      <td>2025-05-04 07:00:00+00:00</td>\n",
       "    </tr>\n",
       "  </tbody>\n",
       "</table>\n",
       "<p>8428 rows × 4 columns</p>\n",
       "</div>"
      ],
      "text/plain": [
       "        id  aluno_id        data                      hora\n",
       "0        1         1  2025-05-31 2025-05-31 07:00:00+00:00\n",
       "1        2         1  2025-06-01 2025-06-01 07:00:00+00:00\n",
       "2        3         1  2025-06-03 2025-06-03 07:00:00+00:00\n",
       "3        4         1  2025-06-06 2025-06-06 07:00:00+00:00\n",
       "4        5         1  2025-06-15 2025-06-15 07:00:00+00:00\n",
       "...    ...       ...         ...                       ...\n",
       "8423  8424      1000  2025-04-19 2025-04-19 07:00:00+00:00\n",
       "8424  8425      1000  2025-04-20 2025-04-20 07:00:00+00:00\n",
       "8425  8426      1000  2025-04-26 2025-04-26 07:00:00+00:00\n",
       "8426  8427      1000  2025-05-02 2025-05-02 07:00:00+00:00\n",
       "8427  8428      1000  2025-05-04 2025-05-04 07:00:00+00:00\n",
       "\n",
       "[8428 rows x 4 columns]"
      ]
     },
     "metadata": {},
     "output_type": "display_data"
    }
   ],
   "source": [
    "# importando base de dados checkins\n",
    "base_checkins = pd.read_sql(\"SELECT * FROM checkins\", con=engine)\n",
    "display(base_checkins)"
   ]
  },
  {
   "cell_type": "code",
   "execution_count": 3046,
   "id": "e4c2ec4d",
   "metadata": {},
   "outputs": [
    {
     "data": {
      "text/html": [
       "<div>\n",
       "<style scoped>\n",
       "    .dataframe tbody tr th:only-of-type {\n",
       "        vertical-align: middle;\n",
       "    }\n",
       "\n",
       "    .dataframe tbody tr th {\n",
       "        vertical-align: top;\n",
       "    }\n",
       "\n",
       "    .dataframe thead th {\n",
       "        text-align: right;\n",
       "    }\n",
       "</style>\n",
       "<table border=\"1\" class=\"dataframe\">\n",
       "  <thead>\n",
       "    <tr style=\"text-align: right;\">\n",
       "      <th></th>\n",
       "      <th>id</th>\n",
       "      <th>nome</th>\n",
       "      <th>duracao_meses</th>\n",
       "      <th>preco</th>\n",
       "    </tr>\n",
       "  </thead>\n",
       "  <tbody>\n",
       "    <tr>\n",
       "      <th>0</th>\n",
       "      <td>1</td>\n",
       "      <td>Mensal</td>\n",
       "      <td>1</td>\n",
       "      <td>100.0</td>\n",
       "    </tr>\n",
       "    <tr>\n",
       "      <th>1</th>\n",
       "      <td>2</td>\n",
       "      <td>Trimestral</td>\n",
       "      <td>3</td>\n",
       "      <td>270.0</td>\n",
       "    </tr>\n",
       "    <tr>\n",
       "      <th>2</th>\n",
       "      <td>3</td>\n",
       "      <td>Semestral</td>\n",
       "      <td>6</td>\n",
       "      <td>480.0</td>\n",
       "    </tr>\n",
       "    <tr>\n",
       "      <th>3</th>\n",
       "      <td>4</td>\n",
       "      <td>Anual</td>\n",
       "      <td>12</td>\n",
       "      <td>900.0</td>\n",
       "    </tr>\n",
       "  </tbody>\n",
       "</table>\n",
       "</div>"
      ],
      "text/plain": [
       "   id        nome  duracao_meses  preco\n",
       "0   1      Mensal              1  100.0\n",
       "1   2  Trimestral              3  270.0\n",
       "2   3   Semestral              6  480.0\n",
       "3   4       Anual             12  900.0"
      ]
     },
     "metadata": {},
     "output_type": "display_data"
    }
   ],
   "source": [
    "# imprtando base de dados planos\n",
    "base_planos = pd.read_sql(\"SELECT * FROM planos\", con=engine)\n",
    "display(base_planos)"
   ]
  },
  {
   "cell_type": "markdown",
   "id": "814237bb",
   "metadata": {},
   "source": [
    "### Verificando consistência das bases\n",
    "\n",
    "\n",
    "<small>Obs: Não há dados vazios, não tive tempo de otimizar o faker para gerar iconsistências, então não vou demorar tanto na parte de exploração e tratamento, consigo demonstrar melhor minhas habilidades nessa parte em um projeto pessoal do kaggle que eu fiz, mas se houvessem dados vazios eu faria as seguintes coisas:</small>  \n",
    "\n",
    "<small>- Se houvessem valores de idade (data de nascimento) vazios, por exemplo, eu substituiria eles pela média de todas as idades</small>\n",
    "\n",
    "<small>- Se tivessem muitos outliers em determinada coluna, muito provavelmente eu usaria a mediana para substituir os valores vazio, já que a média não representaria bem a distribuição de dados</small>\n",
    "\n",
    "<small>- De forma geral já é feito um pré tratamento no meu banco de dados para evitar dados inconsistentes. O que poderia criar um problema são alunos inativos, mas emboram não tenha nenhum no banco, se houvesse eu excluiria no tratamento de qualquer forma</small>"
   ]
  },
  {
   "cell_type": "code",
   "execution_count": 3047,
   "id": "8d29cf64",
   "metadata": {},
   "outputs": [
    {
     "name": "stdout",
     "output_type": "stream",
     "text": [
      "<class 'pandas.core.frame.DataFrame'>\n",
      "RangeIndex: 1000 entries, 0 to 999\n",
      "Data columns (total 9 columns):\n",
      " #   Column           Non-Null Count  Dtype              \n",
      "---  ------           --------------  -----              \n",
      " 0   id               1000 non-null   int64              \n",
      " 1   nome             1000 non-null   object             \n",
      " 2   sexo             1000 non-null   object             \n",
      " 3   email            1000 non-null   object             \n",
      " 4   senha            1000 non-null   object             \n",
      " 5   ativo            1000 non-null   bool               \n",
      " 6   data_nascimento  1000 non-null   object             \n",
      " 7   plano_id         1000 non-null   int64              \n",
      " 8   data_cadastro    1000 non-null   datetime64[ns, UTC]\n",
      "dtypes: bool(1), datetime64[ns, UTC](1), int64(2), object(5)\n",
      "memory usage: 63.6+ KB\n"
     ]
    }
   ],
   "source": [
    "# conferindo alunos\n",
    "base_alunos.info()"
   ]
  },
  {
   "cell_type": "code",
   "execution_count": 3048,
   "id": "ec624dc2",
   "metadata": {},
   "outputs": [
    {
     "data": {
      "text/plain": [
       "ativo\n",
       "True    1000\n",
       "Name: count, dtype: int64"
      ]
     },
     "execution_count": 3048,
     "metadata": {},
     "output_type": "execute_result"
    }
   ],
   "source": [
    "# verificando se existe algum cadastro inativo\n",
    "base_alunos.ativo.value_counts()"
   ]
  },
  {
   "cell_type": "code",
   "execution_count": 3049,
   "id": "b40e2722",
   "metadata": {},
   "outputs": [
    {
     "name": "stdout",
     "output_type": "stream",
     "text": [
      "<class 'pandas.core.frame.DataFrame'>\n",
      "RangeIndex: 8428 entries, 0 to 8427\n",
      "Data columns (total 4 columns):\n",
      " #   Column    Non-Null Count  Dtype              \n",
      "---  ------    --------------  -----              \n",
      " 0   id        8428 non-null   int64              \n",
      " 1   aluno_id  8428 non-null   int64              \n",
      " 2   data      8428 non-null   object             \n",
      " 3   hora      8428 non-null   datetime64[ns, UTC]\n",
      "dtypes: datetime64[ns, UTC](1), int64(2), object(1)\n",
      "memory usage: 263.5+ KB\n"
     ]
    }
   ],
   "source": [
    "# conferindo checkins\n",
    "base_checkins.info()"
   ]
  },
  {
   "cell_type": "code",
   "execution_count": 3050,
   "id": "846d89ef",
   "metadata": {},
   "outputs": [
    {
     "name": "stdout",
     "output_type": "stream",
     "text": [
      "<class 'pandas.core.frame.DataFrame'>\n",
      "RangeIndex: 4 entries, 0 to 3\n",
      "Data columns (total 4 columns):\n",
      " #   Column         Non-Null Count  Dtype  \n",
      "---  ------         --------------  -----  \n",
      " 0   id             4 non-null      int64  \n",
      " 1   nome           4 non-null      object \n",
      " 2   duracao_meses  4 non-null      int64  \n",
      " 3   preco          4 non-null      float64\n",
      "dtypes: float64(1), int64(2), object(1)\n",
      "memory usage: 260.0+ bytes\n"
     ]
    }
   ],
   "source": [
    "# conferindo planos\n",
    "base_planos.info()"
   ]
  },
  {
   "cell_type": "markdown",
   "id": "17ca86c0",
   "metadata": {},
   "source": [
    "<h1 id='tratamento'>1 - Tratamento de dados</h1>\n",
    "\n",
    "<small>Obs:</small>  \n",
    "<small>- A partir daqui eu já desconsiderei a base_planos. Ela é muito relevante para a análise mas já está inclusa na base_alunos na coluna plano_id, com isso eu já tenho o necessário dela.</small> \n",
    "\n",
    "<small>- Eu poderia ter usado o nome do plano ao invés do id, aumentaria o desafio. Mas se fosse o caso, eu usaria o OneHotEncoder do Pandas (get.dummies) ou do Scikit-Learn para tranformar em dados Booleanos numéricos</small>"
   ]
  },
  {
   "cell_type": "markdown",
   "id": "f986bae2",
   "metadata": {},
   "source": [
    "Transformando gênero em booleano (base_alunos)"
   ]
  },
  {
   "cell_type": "code",
   "execution_count": 3051,
   "id": "a5db12ab",
   "metadata": {},
   "outputs": [
    {
     "data": {
      "text/plain": [
       "sexo\n",
       "Masculino    503\n",
       "Feminino     497\n",
       "Name: count, dtype: int64"
      ]
     },
     "execution_count": 3051,
     "metadata": {},
     "output_type": "execute_result"
    }
   ],
   "source": [
    "# analisando distribuição de gênero\n",
    "base_alunos.sexo.value_counts()"
   ]
  },
  {
   "cell_type": "code",
   "execution_count": 3052,
   "id": "9ce69948",
   "metadata": {},
   "outputs": [],
   "source": [
    "# criando nova coluna IsMale\n",
    "base_alunos['IsMale'] = base_alunos.sexo.apply(lambda x:1 if x == 'Masculino' else 0)"
   ]
  },
  {
   "cell_type": "code",
   "execution_count": 3053,
   "id": "a9524157",
   "metadata": {},
   "outputs": [
    {
     "data": {
      "text/plain": [
       "sexo       IsMale\n",
       "Feminino   0         497\n",
       "Masculino  1         503\n",
       "Name: sexo, dtype: int64"
      ]
     },
     "execution_count": 3053,
     "metadata": {},
     "output_type": "execute_result"
    }
   ],
   "source": [
    "# verificando nova coluna\n",
    "base_alunos.groupby(['sexo', 'IsMale'])['sexo'].count()"
   ]
  },
  {
   "cell_type": "markdown",
   "id": "21c5e4f6",
   "metadata": {},
   "source": [
    "Tranformando data de nascimento em idade (base_alunos)"
   ]
  },
  {
   "cell_type": "code",
   "execution_count": 3054,
   "id": "119ad997",
   "metadata": {},
   "outputs": [
    {
     "data": {
      "text/plain": [
       "0    1984-06-04\n",
       "Name: data_nascimento, dtype: object"
      ]
     },
     "execution_count": 3054,
     "metadata": {},
     "output_type": "execute_result"
    }
   ],
   "source": [
    "# visualizando formato dos dados\n",
    "base_alunos['data_nascimento'].head(1)"
   ]
  },
  {
   "cell_type": "code",
   "execution_count": 3055,
   "id": "5a6951f0",
   "metadata": {},
   "outputs": [],
   "source": [
    "# criando coluna Idade\n",
    "from datetime import datetime\n",
    "\n",
    "base_alunos['data_nascimento'] = pd.to_datetime(base_alunos['data_nascimento'])\n",
    "\n",
    "# calcula a idade sem superestimar\n",
    "hoje = pd.to_datetime(datetime.now().date())\n",
    "base_alunos['Idade'] = base_alunos['data_nascimento'].apply(\n",
    "    lambda nascimento: hoje.year - nascimento.year - ((hoje.month, hoje.day) < (nascimento.month, nascimento.day))\n",
    ")"
   ]
  },
  {
   "cell_type": "code",
   "execution_count": 3056,
   "id": "ebb5b910",
   "metadata": {},
   "outputs": [
    {
     "data": {
      "text/plain": [
       "data_nascimento  Idade\n",
       "1959-06-24       65       1\n",
       "1959-07-10       65       1\n",
       "1959-08-01       65       1\n",
       "1959-08-07       65       1\n",
       "1959-08-23       65       1\n",
       "                         ..\n",
       "2007-04-16       18       1\n",
       "2007-05-06       18       2\n",
       "2007-05-22       18       1\n",
       "2007-06-10       18       1\n",
       "2007-06-14       18       1\n",
       "Name: data_nascimento, Length: 974, dtype: int64"
      ]
     },
     "execution_count": 3056,
     "metadata": {},
     "output_type": "execute_result"
    }
   ],
   "source": [
    "# verificando nova coluna\n",
    "base_alunos.groupby(['data_nascimento', 'Idade'])['data_nascimento'].count()"
   ]
  },
  {
   "cell_type": "markdown",
   "id": "35dd32df",
   "metadata": {},
   "source": [
    "Transformando data em dias sem checkin (base_checkins)"
   ]
  },
  {
   "cell_type": "code",
   "execution_count": 3057,
   "id": "380a349d",
   "metadata": {},
   "outputs": [
    {
     "data": {
      "text/html": [
       "<div>\n",
       "<style scoped>\n",
       "    .dataframe tbody tr th:only-of-type {\n",
       "        vertical-align: middle;\n",
       "    }\n",
       "\n",
       "    .dataframe tbody tr th {\n",
       "        vertical-align: top;\n",
       "    }\n",
       "\n",
       "    .dataframe thead th {\n",
       "        text-align: right;\n",
       "    }\n",
       "</style>\n",
       "<table border=\"1\" class=\"dataframe\">\n",
       "  <thead>\n",
       "    <tr style=\"text-align: right;\">\n",
       "      <th></th>\n",
       "      <th>aluno_id</th>\n",
       "      <th>data_ultimo_checkin</th>\n",
       "      <th>DiasSemCheckin</th>\n",
       "    </tr>\n",
       "  </thead>\n",
       "  <tbody>\n",
       "    <tr>\n",
       "      <th>0</th>\n",
       "      <td>1</td>\n",
       "      <td>2025-06-19</td>\n",
       "      <td>4</td>\n",
       "    </tr>\n",
       "    <tr>\n",
       "      <th>1</th>\n",
       "      <td>2</td>\n",
       "      <td>2025-06-23</td>\n",
       "      <td>0</td>\n",
       "    </tr>\n",
       "    <tr>\n",
       "      <th>2</th>\n",
       "      <td>3</td>\n",
       "      <td>2025-05-31</td>\n",
       "      <td>23</td>\n",
       "    </tr>\n",
       "    <tr>\n",
       "      <th>3</th>\n",
       "      <td>4</td>\n",
       "      <td>2025-04-24</td>\n",
       "      <td>60</td>\n",
       "    </tr>\n",
       "    <tr>\n",
       "      <th>4</th>\n",
       "      <td>5</td>\n",
       "      <td>2025-06-19</td>\n",
       "      <td>4</td>\n",
       "    </tr>\n",
       "    <tr>\n",
       "      <th>...</th>\n",
       "      <td>...</td>\n",
       "      <td>...</td>\n",
       "      <td>...</td>\n",
       "    </tr>\n",
       "    <tr>\n",
       "      <th>995</th>\n",
       "      <td>996</td>\n",
       "      <td>2025-06-23</td>\n",
       "      <td>0</td>\n",
       "    </tr>\n",
       "    <tr>\n",
       "      <th>996</th>\n",
       "      <td>997</td>\n",
       "      <td>2025-06-23</td>\n",
       "      <td>0</td>\n",
       "    </tr>\n",
       "    <tr>\n",
       "      <th>997</th>\n",
       "      <td>998</td>\n",
       "      <td>2025-06-23</td>\n",
       "      <td>0</td>\n",
       "    </tr>\n",
       "    <tr>\n",
       "      <th>998</th>\n",
       "      <td>999</td>\n",
       "      <td>2025-06-15</td>\n",
       "      <td>8</td>\n",
       "    </tr>\n",
       "    <tr>\n",
       "      <th>999</th>\n",
       "      <td>1000</td>\n",
       "      <td>2025-05-04</td>\n",
       "      <td>50</td>\n",
       "    </tr>\n",
       "  </tbody>\n",
       "</table>\n",
       "<p>1000 rows × 3 columns</p>\n",
       "</div>"
      ],
      "text/plain": [
       "     aluno_id data_ultimo_checkin  DiasSemCheckin\n",
       "0           1          2025-06-19               4\n",
       "1           2          2025-06-23               0\n",
       "2           3          2025-05-31              23\n",
       "3           4          2025-04-24              60\n",
       "4           5          2025-06-19               4\n",
       "..        ...                 ...             ...\n",
       "995       996          2025-06-23               0\n",
       "996       997          2025-06-23               0\n",
       "997       998          2025-06-23               0\n",
       "998       999          2025-06-15               8\n",
       "999      1000          2025-05-04              50\n",
       "\n",
       "[1000 rows x 3 columns]"
      ]
     },
     "metadata": {},
     "output_type": "display_data"
    }
   ],
   "source": [
    "# criando dataframe com coluna DiasSemCheckin\n",
    "\n",
    "# garantindo formato data\n",
    "base_checkins['data'] = pd.to_datetime(base_checkins['data'])\n",
    "\n",
    "# calculando último checkin\n",
    "ultimo_checkin = base_checkins.groupby('aluno_id')['data'].max().reset_index()\n",
    "ultimo_checkin.rename(columns={'data': 'data_ultimo_checkin'}, inplace=True)\n",
    "\n",
    "# data atual\n",
    "hoje = pd.to_datetime(datetime.now().date())\n",
    "\n",
    "# calculando dias sem checkin\n",
    "hoje = pd.to_datetime(datetime.now().date())\n",
    "ultimo_checkin['DiasSemCheckin'] = (hoje - ultimo_checkin['data_ultimo_checkin']).dt.days\n",
    "\n",
    "# conferindo resultado\n",
    "display(ultimo_checkin)"
   ]
  },
  {
   "cell_type": "code",
   "execution_count": 3058,
   "id": "b9b4f495",
   "metadata": {},
   "outputs": [],
   "source": [
    "# atribuindo à base_checkins\n",
    "base_ultimo_checkin = ultimo_checkin"
   ]
  },
  {
   "cell_type": "code",
   "execution_count": 3059,
   "id": "b20af1c5",
   "metadata": {},
   "outputs": [
    {
     "name": "stdout",
     "output_type": "stream",
     "text": [
      "<class 'pandas.core.frame.DataFrame'>\n",
      "RangeIndex: 1000 entries, 0 to 999\n",
      "Data columns (total 13 columns):\n",
      " #   Column               Non-Null Count  Dtype              \n",
      "---  ------               --------------  -----              \n",
      " 0   id                   1000 non-null   int64              \n",
      " 1   nome                 1000 non-null   object             \n",
      " 2   sexo                 1000 non-null   object             \n",
      " 3   email                1000 non-null   object             \n",
      " 4   senha                1000 non-null   object             \n",
      " 5   ativo                1000 non-null   bool               \n",
      " 6   data_nascimento      1000 non-null   datetime64[ns]     \n",
      " 7   plano_id             1000 non-null   int64              \n",
      " 8   data_cadastro        1000 non-null   datetime64[ns, UTC]\n",
      " 9   IsMale               1000 non-null   int64              \n",
      " 10  Idade                1000 non-null   int64              \n",
      " 11  data_ultimo_checkin  1000 non-null   datetime64[ns]     \n",
      " 12  DiasSemCheckin       1000 non-null   int64              \n",
      "dtypes: bool(1), datetime64[ns, UTC](1), datetime64[ns](2), int64(5), object(4)\n",
      "memory usage: 94.9+ KB\n"
     ]
    }
   ],
   "source": [
    "# unindo as bases\n",
    "base = pd.merge(base_alunos, base_ultimo_checkin, left_on='id', right_on='aluno_id', how='left')\n",
    "\n",
    "# excluindo coluna duplicada\n",
    "base.drop(columns=['aluno_id'], inplace=True)\n",
    "\n",
    "# conferindo resultado\n",
    "base.info()"
   ]
  },
  {
   "cell_type": "markdown",
   "id": "16db05cf",
   "metadata": {},
   "source": [
    "<h1 id='limpeza'>2 - Limpeza de dados</h1>"
   ]
  },
  {
   "cell_type": "markdown",
   "id": "5fbce0dd",
   "metadata": {},
   "source": [
    "---\n",
    "CORREÇÃO: Criando novas features\n",
    "\n",
    "<small>\n",
    "Motivo:\n",
    "\n",
    "Criei DiasSemCheckin mas com ela o modelo não aprende nada, só decora. Usar dados muito ligados ao É_Churn causa a mesma coisa.\n",
    "</small>"
   ]
  },
  {
   "cell_type": "code",
   "execution_count": 3060,
   "id": "74095e3e",
   "metadata": {},
   "outputs": [],
   "source": [
    "# total de checkins por aluno\n",
    "total_checkins = base_checkins.groupby('aluno_id').size().reset_index(name='TotalCheckins')\n",
    "\n",
    "# filtrar checkins dos últimos 30 dias\n",
    "checkins_30 = base_checkins[base_checkins['data'] >= (hoje - pd.Timedelta(days=30))]\n",
    "checkins_30d = checkins_30.groupby('aluno_id').size().reset_index(name='CheckinsUltimos30Dias')\n",
    "\n",
    "# filtrar checkins dos últimos 90 dias\n",
    "checkins_90 = base_checkins[base_checkins['data'] >= (hoje - pd.Timedelta(days=90))]\n",
    "checkins_90d = checkins_90.groupby('aluno_id').size().reset_index(name='CheckinsUltimos90Dias')\n",
    "\n",
    "# média semanal de checkins nos últimos 90 dias\n",
    "checkins_90d['MediaSemanalCheckin_90d'] = checkins_90d['CheckinsUltimos90Dias'] / (90 / 7)\n",
    "\n",
    "# calculando intervalo médio e desvio padrão entre check-ins por aluno\n",
    "df_sorted = base_checkins.sort_values(['aluno_id', 'data']).copy()\n",
    "df_sorted['intervalo'] = df_sorted.groupby('aluno_id')['data'].diff().dt.days\n",
    "\n",
    "media_intervalo = df_sorted.groupby('aluno_id')['intervalo'].mean().reset_index(name='TempoMedioEntreCheckins')\n",
    "desvio_intervalo = df_sorted.groupby('aluno_id')['intervalo'].std().reset_index(name='DesvioDiasEntreCheckins')\n",
    "\n",
    "# unindo todas as métricas num único dataframe por aluno\n",
    "df_metrics = total_checkins \\\n",
    "    .merge(checkins_30d, on='aluno_id', how='left') \\\n",
    "    .merge(checkins_90d[['aluno_id', 'CheckinsUltimos90Dias', 'MediaSemanalCheckin_90d']], on='aluno_id', how='left') \\\n",
    "    .merge(media_intervalo, on='aluno_id', how='left') \\\n",
    "    .merge(desvio_intervalo, on='aluno_id', how='left')\n",
    "\n",
    "# preenchendo NaN com 0 para alunos com poucos checkins\n",
    "df_metrics.fillna(0, inplace=True)\n",
    "\n",
    "# unindo as métricas na base principal pelo id do aluno\n",
    "base = base.merge(df_metrics, left_on='id', right_on='aluno_id', how='left')\n",
    "\n",
    "# removendo coluna auxiliar\n",
    "base.drop(columns=['aluno_id'], inplace=True)"
   ]
  },
  {
   "cell_type": "markdown",
   "id": "c778f367",
   "metadata": {},
   "source": [
    "---"
   ]
  },
  {
   "cell_type": "code",
   "execution_count": 3061,
   "id": "7dc4b26a",
   "metadata": {},
   "outputs": [
    {
     "name": "stdout",
     "output_type": "stream",
     "text": [
      "<class 'pandas.core.frame.DataFrame'>\n",
      "RangeIndex: 1000 entries, 0 to 999\n",
      "Data columns (total 15 columns):\n",
      " #   Column                   Non-Null Count  Dtype              \n",
      "---  ------                   --------------  -----              \n",
      " 0   id                       1000 non-null   int64              \n",
      " 1   ativo                    1000 non-null   bool               \n",
      " 2   data_nascimento          1000 non-null   datetime64[ns]     \n",
      " 3   plano_id                 1000 non-null   int64              \n",
      " 4   data_cadastro            1000 non-null   datetime64[ns, UTC]\n",
      " 5   IsMale                   1000 non-null   int64              \n",
      " 6   Idade                    1000 non-null   int64              \n",
      " 7   data_ultimo_checkin      1000 non-null   datetime64[ns]     \n",
      " 8   DiasSemCheckin           1000 non-null   int64              \n",
      " 9   TotalCheckins            1000 non-null   int64              \n",
      " 10  CheckinsUltimos30Dias    1000 non-null   float64            \n",
      " 11  CheckinsUltimos90Dias    1000 non-null   int64              \n",
      " 12  MediaSemanalCheckin_90d  1000 non-null   float64            \n",
      " 13  TempoMedioEntreCheckins  1000 non-null   float64            \n",
      " 14  DesvioDiasEntreCheckins  1000 non-null   float64            \n",
      "dtypes: bool(1), datetime64[ns, UTC](1), datetime64[ns](2), float64(4), int64(7)\n",
      "memory usage: 110.5 KB\n"
     ]
    }
   ],
   "source": [
    "# eliminado colunas tipo object\n",
    "base = base.drop(columns=base_alunos.select_dtypes(include='object').columns)\n",
    "base.info()"
   ]
  },
  {
   "cell_type": "code",
   "execution_count": 3062,
   "id": "bb1d6063",
   "metadata": {},
   "outputs": [
    {
     "name": "stdout",
     "output_type": "stream",
     "text": [
      "<class 'pandas.core.frame.DataFrame'>\n",
      "RangeIndex: 1000 entries, 0 to 999\n",
      "Data columns (total 11 columns):\n",
      " #   Column                   Non-Null Count  Dtype  \n",
      "---  ------                   --------------  -----  \n",
      " 0   id                       1000 non-null   int64  \n",
      " 1   plano_id                 1000 non-null   int64  \n",
      " 2   IsMale                   1000 non-null   int64  \n",
      " 3   Idade                    1000 non-null   int64  \n",
      " 4   DiasSemCheckin           1000 non-null   int64  \n",
      " 5   TotalCheckins            1000 non-null   int64  \n",
      " 6   CheckinsUltimos30Dias    1000 non-null   float64\n",
      " 7   CheckinsUltimos90Dias    1000 non-null   int64  \n",
      " 8   MediaSemanalCheckin_90d  1000 non-null   float64\n",
      " 9   TempoMedioEntreCheckins  1000 non-null   float64\n",
      " 10  DesvioDiasEntreCheckins  1000 non-null   float64\n",
      "dtypes: float64(4), int64(7)\n",
      "memory usage: 86.1 KB\n"
     ]
    }
   ],
   "source": [
    "# Eliminando colunas desnecessárias (id, ativo, data_nascimento e data_cadastro)\n",
    "# Devido a uma correção abaixo, o id eu vou deixar para tirar depois\n",
    "base = base.drop(['ativo', 'data_nascimento', 'data_cadastro', 'data_ultimo_checkin'], axis=1)\n",
    "base.info()"
   ]
  },
  {
   "cell_type": "markdown",
   "id": "390d3bbe",
   "metadata": {},
   "source": [
    "<h1 id='preparando'>3 - Preparando dados para aplicar os modelos</h1>\n",
    "\n",
    "<small>Obs - Explicando decisões recentes:</small>  \n",
    "<small>- Retirei as colunas do tipo object porque nome, email e senha não são relevantes para o modelo nesse contexto.</small>  \n",
    "\n",
    "<small>- Retirei a coluna id por ser um identificador. Manter ela iria afetar muito a cardinalidade e correlação dos dados</small> \n",
    "\n",
    "<small>- Retirei a coluna ativo pois todos os dados são iguais, não é relevante nesse caso.</small> \n",
    "\n",
    "<small>- Retirei a coluna data_nascimento pois já criei a coluna idade.</small> \n",
    "\n",
    "<small>- Retirei a coluna data_ultimo_checkin pois está no formato de data e eu já tenho a coluna DiasSemCheckin.</small> \n",
    "\n",
    "<small>- Por fim, retirei a coluna data_cadastro pois fiz todos na mesma data, se fossem cadastros ao longo do ano até poderia ser feita uma análise mais completa considerando as épocas do ano, eventos, estações e datas comemorativas, por exemplo.</small> "
   ]
  },
  {
   "cell_type": "code",
   "execution_count": 3063,
   "id": "b0f6898b",
   "metadata": {},
   "outputs": [
    {
     "data": {
      "text/html": [
       "<div>\n",
       "<style scoped>\n",
       "    .dataframe tbody tr th:only-of-type {\n",
       "        vertical-align: middle;\n",
       "    }\n",
       "\n",
       "    .dataframe tbody tr th {\n",
       "        vertical-align: top;\n",
       "    }\n",
       "\n",
       "    .dataframe thead th {\n",
       "        text-align: right;\n",
       "    }\n",
       "</style>\n",
       "<table border=\"1\" class=\"dataframe\">\n",
       "  <thead>\n",
       "    <tr style=\"text-align: right;\">\n",
       "      <th></th>\n",
       "      <th>id</th>\n",
       "      <th>plano_id</th>\n",
       "      <th>IsMale</th>\n",
       "      <th>Idade</th>\n",
       "      <th>DiasSemCheckin</th>\n",
       "      <th>TotalCheckins</th>\n",
       "      <th>CheckinsUltimos30Dias</th>\n",
       "      <th>CheckinsUltimos90Dias</th>\n",
       "      <th>MediaSemanalCheckin_90d</th>\n",
       "      <th>TempoMedioEntreCheckins</th>\n",
       "      <th>DesvioDiasEntreCheckins</th>\n",
       "      <th>É_Churn</th>\n",
       "    </tr>\n",
       "  </thead>\n",
       "  <tbody>\n",
       "    <tr>\n",
       "      <th>0</th>\n",
       "      <td>1</td>\n",
       "      <td>1</td>\n",
       "      <td>0</td>\n",
       "      <td>41</td>\n",
       "      <td>4</td>\n",
       "      <td>7</td>\n",
       "      <td>7.0</td>\n",
       "      <td>7</td>\n",
       "      <td>0.544444</td>\n",
       "      <td>3.166667</td>\n",
       "      <td>2.994439</td>\n",
       "      <td>0</td>\n",
       "    </tr>\n",
       "    <tr>\n",
       "      <th>1</th>\n",
       "      <td>2</td>\n",
       "      <td>1</td>\n",
       "      <td>0</td>\n",
       "      <td>27</td>\n",
       "      <td>0</td>\n",
       "      <td>7</td>\n",
       "      <td>7.0</td>\n",
       "      <td>7</td>\n",
       "      <td>0.544444</td>\n",
       "      <td>4.166667</td>\n",
       "      <td>3.125167</td>\n",
       "      <td>0</td>\n",
       "    </tr>\n",
       "    <tr>\n",
       "      <th>2</th>\n",
       "      <td>3</td>\n",
       "      <td>1</td>\n",
       "      <td>0</td>\n",
       "      <td>26</td>\n",
       "      <td>23</td>\n",
       "      <td>6</td>\n",
       "      <td>1.0</td>\n",
       "      <td>6</td>\n",
       "      <td>0.466667</td>\n",
       "      <td>4.200000</td>\n",
       "      <td>3.701351</td>\n",
       "      <td>0</td>\n",
       "    </tr>\n",
       "    <tr>\n",
       "      <th>3</th>\n",
       "      <td>4</td>\n",
       "      <td>1</td>\n",
       "      <td>0</td>\n",
       "      <td>43</td>\n",
       "      <td>60</td>\n",
       "      <td>6</td>\n",
       "      <td>0.0</td>\n",
       "      <td>6</td>\n",
       "      <td>0.466667</td>\n",
       "      <td>5.600000</td>\n",
       "      <td>3.781534</td>\n",
       "      <td>1</td>\n",
       "    </tr>\n",
       "    <tr>\n",
       "      <th>4</th>\n",
       "      <td>5</td>\n",
       "      <td>1</td>\n",
       "      <td>0</td>\n",
       "      <td>61</td>\n",
       "      <td>4</td>\n",
       "      <td>7</td>\n",
       "      <td>7.0</td>\n",
       "      <td>7</td>\n",
       "      <td>0.544444</td>\n",
       "      <td>3.500000</td>\n",
       "      <td>3.507136</td>\n",
       "      <td>0</td>\n",
       "    </tr>\n",
       "    <tr>\n",
       "      <th>...</th>\n",
       "      <td>...</td>\n",
       "      <td>...</td>\n",
       "      <td>...</td>\n",
       "      <td>...</td>\n",
       "      <td>...</td>\n",
       "      <td>...</td>\n",
       "      <td>...</td>\n",
       "      <td>...</td>\n",
       "      <td>...</td>\n",
       "      <td>...</td>\n",
       "      <td>...</td>\n",
       "      <td>...</td>\n",
       "    </tr>\n",
       "    <tr>\n",
       "      <th>995</th>\n",
       "      <td>996</td>\n",
       "      <td>4</td>\n",
       "      <td>1</td>\n",
       "      <td>19</td>\n",
       "      <td>0</td>\n",
       "      <td>12</td>\n",
       "      <td>12.0</td>\n",
       "      <td>12</td>\n",
       "      <td>0.933333</td>\n",
       "      <td>2.454545</td>\n",
       "      <td>1.572491</td>\n",
       "      <td>0</td>\n",
       "    </tr>\n",
       "    <tr>\n",
       "      <th>996</th>\n",
       "      <td>997</td>\n",
       "      <td>4</td>\n",
       "      <td>1</td>\n",
       "      <td>34</td>\n",
       "      <td>0</td>\n",
       "      <td>13</td>\n",
       "      <td>13.0</td>\n",
       "      <td>13</td>\n",
       "      <td>1.011111</td>\n",
       "      <td>2.250000</td>\n",
       "      <td>1.484771</td>\n",
       "      <td>0</td>\n",
       "    </tr>\n",
       "    <tr>\n",
       "      <th>997</th>\n",
       "      <td>998</td>\n",
       "      <td>4</td>\n",
       "      <td>0</td>\n",
       "      <td>38</td>\n",
       "      <td>0</td>\n",
       "      <td>12</td>\n",
       "      <td>12.0</td>\n",
       "      <td>12</td>\n",
       "      <td>0.933333</td>\n",
       "      <td>2.454545</td>\n",
       "      <td>1.439697</td>\n",
       "      <td>0</td>\n",
       "    </tr>\n",
       "    <tr>\n",
       "      <th>998</th>\n",
       "      <td>999</td>\n",
       "      <td>4</td>\n",
       "      <td>1</td>\n",
       "      <td>50</td>\n",
       "      <td>8</td>\n",
       "      <td>10</td>\n",
       "      <td>8.0</td>\n",
       "      <td>10</td>\n",
       "      <td>0.777778</td>\n",
       "      <td>3.222222</td>\n",
       "      <td>1.481366</td>\n",
       "      <td>0</td>\n",
       "    </tr>\n",
       "    <tr>\n",
       "      <th>999</th>\n",
       "      <td>1000</td>\n",
       "      <td>4</td>\n",
       "      <td>1</td>\n",
       "      <td>64</td>\n",
       "      <td>50</td>\n",
       "      <td>9</td>\n",
       "      <td>0.0</td>\n",
       "      <td>9</td>\n",
       "      <td>0.700000</td>\n",
       "      <td>3.250000</td>\n",
       "      <td>2.052873</td>\n",
       "      <td>1</td>\n",
       "    </tr>\n",
       "  </tbody>\n",
       "</table>\n",
       "<p>1000 rows × 12 columns</p>\n",
       "</div>"
      ],
      "text/plain": [
       "       id  plano_id  IsMale  Idade  DiasSemCheckin  TotalCheckins  \\\n",
       "0       1         1       0     41               4              7   \n",
       "1       2         1       0     27               0              7   \n",
       "2       3         1       0     26              23              6   \n",
       "3       4         1       0     43              60              6   \n",
       "4       5         1       0     61               4              7   \n",
       "..    ...       ...     ...    ...             ...            ...   \n",
       "995   996         4       1     19               0             12   \n",
       "996   997         4       1     34               0             13   \n",
       "997   998         4       0     38               0             12   \n",
       "998   999         4       1     50               8             10   \n",
       "999  1000         4       1     64              50              9   \n",
       "\n",
       "     CheckinsUltimos30Dias  CheckinsUltimos90Dias  MediaSemanalCheckin_90d  \\\n",
       "0                      7.0                      7                 0.544444   \n",
       "1                      7.0                      7                 0.544444   \n",
       "2                      1.0                      6                 0.466667   \n",
       "3                      0.0                      6                 0.466667   \n",
       "4                      7.0                      7                 0.544444   \n",
       "..                     ...                    ...                      ...   \n",
       "995                   12.0                     12                 0.933333   \n",
       "996                   13.0                     13                 1.011111   \n",
       "997                   12.0                     12                 0.933333   \n",
       "998                    8.0                     10                 0.777778   \n",
       "999                    0.0                      9                 0.700000   \n",
       "\n",
       "     TempoMedioEntreCheckins  DesvioDiasEntreCheckins  É_Churn  \n",
       "0                   3.166667                 2.994439        0  \n",
       "1                   4.166667                 3.125167        0  \n",
       "2                   4.200000                 3.701351        0  \n",
       "3                   5.600000                 3.781534        1  \n",
       "4                   3.500000                 3.507136        0  \n",
       "..                       ...                      ...      ...  \n",
       "995                 2.454545                 1.572491        0  \n",
       "996                 2.250000                 1.484771        0  \n",
       "997                 2.454545                 1.439697        0  \n",
       "998                 3.222222                 1.481366        0  \n",
       "999                 3.250000                 2.052873        1  \n",
       "\n",
       "[1000 rows x 12 columns]"
      ]
     },
     "metadata": {},
     "output_type": "display_data"
    }
   ],
   "source": [
    "# criando coluna É_Churn\n",
    "base['É_Churn'] = base.DiasSemCheckin >= 30\n",
    "\n",
    "# Transfomando bool em binário\n",
    "base['É_Churn'] = base['É_Churn'].astype(int)\n",
    "\n",
    "# base atual\n",
    "display(base)"
   ]
  },
  {
   "cell_type": "code",
   "execution_count": 3064,
   "id": "0051a28b",
   "metadata": {},
   "outputs": [
    {
     "data": {
      "text/plain": [
       "<Axes: >"
      ]
     },
     "execution_count": 3064,
     "metadata": {},
     "output_type": "execute_result"
    },
    {
     "data": {
      "image/png": "[encoded data removed]",
      "text/plain": [
       "<Figure size 640x480 with 2 Axes>"
      ]
     },
     "metadata": {},
     "output_type": "display_data"
    }
   ],
   "source": [
    "# verificando heatmap da base\n",
    "sns.heatmap(base.corr(numeric_only=True))"
   ]
  },
  {
   "cell_type": "code",
   "execution_count": 3065,
   "id": "5cf1e39f",
   "metadata": {},
   "outputs": [
    {
     "name": "stdout",
     "output_type": "stream",
     "text": [
      "É_Churn\n",
      "0    0.615\n",
      "1    0.385\n",
      "Name: proportion, dtype: float64\n"
     ]
    }
   ],
   "source": [
    "print(base['É_Churn'].value_counts(normalize=True))"
   ]
  },
  {
   "cell_type": "markdown",
   "id": "a0df6fec",
   "metadata": {},
   "source": [
    "Preparações finais para o modelo"
   ]
  },
  {
   "cell_type": "code",
   "execution_count": 3066,
   "id": "fe39e1dc",
   "metadata": {},
   "outputs": [],
   "source": [
    "# separando X e y\n",
    "X = base.drop(columns=['id', 'É_Churn', 'DiasSemCheckin', 'CheckinsUltimos30Dias'])\n",
    "y = base['É_Churn']"
   ]
  },
  {
   "cell_type": "code",
   "execution_count": 3067,
   "id": "a81f4fd2",
   "metadata": {},
   "outputs": [],
   "source": [
    "# separando em treino e teste (scaled e notScaled)\n",
    "from sklearn.model_selection import train_test_split\n",
    "from sklearn.preprocessing import StandardScaler\n",
    "\n",
    "# notScaled\n",
    "X_train, X_test, y_train, y_test = train_test_split(X, y, test_size=0.2, random_state=42, stratify=y)\n",
    "# scaled\n",
    "scaler = StandardScaler()\n",
    "\n",
    "X_train_scaled = scaler.fit_transform(X_train)\n",
    "X_test_scaled = scaler.fit_transform(X_test)"
   ]
  },
  {
   "cell_type": "markdown",
   "id": "89b502ff",
   "metadata": {},
   "source": [
    "<h1 id='modelos'>4 - Aplicando e avaliando modelos</h1>\n",
    "\n",
    "<small>Obs - Explicando decisões recentes:</small>  \n",
    "<small>- Separei X_train e X_test escalados e não escalados porque vou usar alguns modelos (ou somente regressão logística) que tem melhores resultados com dados escalados</small>  "
   ]
  },
  {
   "cell_type": "markdown",
   "id": "2af34a36",
   "metadata": {},
   "source": [
    "Iportação e configuração dos modelos"
   ]
  },
  {
   "cell_type": "code",
   "execution_count": 3068,
   "id": "eaad45d1",
   "metadata": {},
   "outputs": [],
   "source": [
    "# importando e configurando modelos (xgb)\n",
    "from xgboost import XGBClassifier\n",
    "xgb = XGBClassifier(eval_metric='logloss', random_state=42, max_depth=6, n_estimators=100)\n",
    "\n",
    "# random forest\n",
    "from sklearn.ensemble import RandomForestClassifier\n",
    "random_forest = RandomForestClassifier(n_estimators=100, random_state=42)\n",
    "\n",
    "# árvore de decisão\n",
    "from sklearn.tree import DecisionTreeClassifier\n",
    "arvore = DecisionTreeClassifier(random_state=42)\n",
    "\n",
    "# regressão logística\n",
    "from sklearn.linear_model import LogisticRegression\n",
    "log_regression = LogisticRegression(max_iter=1000, random_state=42)\n",
    "\n",
    "# svm\n",
    "from sklearn.svm import SVC\n",
    "svc = SVC(random_state=42, kernel='rbf')\n",
    "\n",
    "# knn\n",
    "from sklearn.neighbors import KNeighborsClassifier\n",
    "knn = KNeighborsClassifier(n_neighbors=5)"
   ]
  },
  {
   "cell_type": "markdown",
   "id": "29491975",
   "metadata": {},
   "source": [
    "Fit dos modelos"
   ]
  },
  {
   "cell_type": "code",
   "execution_count": 3069,
   "id": "f51aa94f",
   "metadata": {},
   "outputs": [],
   "source": [
    "# xgb\n",
    "xgb = xgb.fit(X_train, y_train)\n",
    "\n",
    "# random forest\n",
    "random_forest = random_forest.fit(X_train, y_train)\n",
    "\n",
    "# árvore de decisão\n",
    "arvore = arvore.fit(X_train, y_train)\n",
    "\n",
    "# regressão logística\n",
    "log_regression = log_regression.fit(X_train_scaled, y_train)\n",
    "\n",
    "# svm\n",
    "svc = svc.fit(X_train_scaled, y_train)\n",
    "\n",
    "# knn\n",
    "knn = knn.fit(X_train_scaled, y_train)"
   ]
  },
  {
   "cell_type": "markdown",
   "id": "6f716485",
   "metadata": {},
   "source": [
    "Previsão dos modelos"
   ]
  },
  {
   "cell_type": "code",
   "execution_count": 3070,
   "id": "d9a10e8f",
   "metadata": {},
   "outputs": [],
   "source": [
    "# xgb\n",
    "pred_xgb = xgb.predict(X_test)\n",
    "\n",
    "# random forest\n",
    "pred_rforest = random_forest.predict(X_test)\n",
    "\n",
    "# árvore de decisão\n",
    "pred_arvore = arvore.predict(X_test)\n",
    "\n",
    "# regressão logística\n",
    "pred_log = log_regression.predict(X_test_scaled)\n",
    "\n",
    "# svm\n",
    "pred_svc = svc.predict(X_test_scaled)\n",
    "\n",
    "# knn\n",
    "pred_knn = knn.predict(X_test_scaled)"
   ]
  },
  {
   "cell_type": "markdown",
   "id": "4205ec1a",
   "metadata": {},
   "source": [
    "Avaliando modelos"
   ]
  },
  {
   "cell_type": "code",
   "execution_count": 3071,
   "id": "c61c4562",
   "metadata": {},
   "outputs": [],
   "source": [
    "# importando métricas de avaliação\n",
    "from sklearn.metrics import accuracy_score, precision_score, recall_score, f1_score, confusion_matrix, roc_auc_score"
   ]
  },
  {
   "cell_type": "code",
   "execution_count": 3072,
   "id": "44f03071",
   "metadata": {},
   "outputs": [
    {
     "name": "stdout",
     "output_type": "stream",
     "text": [
      "0.795\n",
      "0.845\n",
      "0.8\n",
      "0.79\n",
      "0.82\n",
      "0.785\n"
     ]
    }
   ],
   "source": [
    "# acurácia\n",
    "print(accuracy_score(y_test, pred_xgb))\n",
    "print(accuracy_score(y_test, pred_rforest))\n",
    "print(accuracy_score(y_test, pred_arvore))\n",
    "print(accuracy_score(y_test, pred_log))\n",
    "print(accuracy_score(y_test, pred_svc))\n",
    "print(accuracy_score(y_test, pred_knn))"
   ]
  },
  {
   "cell_type": "code",
   "execution_count": 3073,
   "id": "a13d02df",
   "metadata": {},
   "outputs": [
    {
     "name": "stdout",
     "output_type": "stream",
     "text": [
      "0.7307692307692307\n",
      "0.7948717948717948\n",
      "0.7681159420289855\n",
      "0.7536231884057971\n",
      "0.7662337662337663\n",
      "0.7236842105263158\n"
     ]
    }
   ],
   "source": [
    "# precisão\n",
    "print(precision_score(y_test, pred_xgb))\n",
    "print(precision_score(y_test, pred_rforest))\n",
    "print(precision_score(y_test, pred_arvore))\n",
    "print(precision_score(y_test, pred_log))\n",
    "print(precision_score(y_test, pred_svc))\n",
    "print(precision_score(y_test, pred_knn))"
   ]
  },
  {
   "cell_type": "code",
   "execution_count": 3074,
   "id": "a96046aa",
   "metadata": {},
   "outputs": [
    {
     "name": "stdout",
     "output_type": "stream",
     "text": [
      "0.7402597402597403\n",
      "0.8051948051948052\n",
      "0.6883116883116883\n",
      "0.6753246753246753\n",
      "0.7662337662337663\n",
      "0.7142857142857143\n"
     ]
    }
   ],
   "source": [
    "# recall\n",
    "print(recall_score(y_test, pred_xgb))\n",
    "print(recall_score(y_test, pred_rforest))\n",
    "print(recall_score(y_test, pred_arvore))\n",
    "print(recall_score(y_test, pred_log))\n",
    "print(recall_score(y_test, pred_svc))\n",
    "print(recall_score(y_test, pred_knn))"
   ]
  },
  {
   "cell_type": "code",
   "execution_count": 3075,
   "id": "07f69bdf",
   "metadata": {},
   "outputs": [
    {
     "name": "stdout",
     "output_type": "stream",
     "text": [
      "0.7354838709677419\n",
      "0.8\n",
      "0.726027397260274\n",
      "0.7123287671232876\n",
      "0.7662337662337663\n",
      "0.7189542483660131\n"
     ]
    }
   ],
   "source": [
    "# f1\n",
    "print(f1_score(y_test, pred_xgb))\n",
    "print(f1_score(y_test, pred_rforest))\n",
    "print(f1_score(y_test, pred_arvore))\n",
    "print(f1_score(y_test, pred_log))\n",
    "print(f1_score(y_test, pred_svc))\n",
    "print(f1_score(y_test, pred_knn))"
   ]
  },
  {
   "cell_type": "code",
   "execution_count": 3076,
   "id": "e6155bf2",
   "metadata": {},
   "outputs": [
    {
     "name": "stdout",
     "output_type": "stream",
     "text": [
      "[[102  21]\n",
      " [ 20  57]]\n",
      "[[107  16]\n",
      " [ 15  62]]\n",
      "[[107  16]\n",
      " [ 24  53]]\n",
      "[[106  17]\n",
      " [ 25  52]]\n",
      "[[105  18]\n",
      " [ 18  59]]\n",
      "[[102  21]\n",
      " [ 22  55]]\n"
     ]
    }
   ],
   "source": [
    "# matriz de confusão\n",
    "print(confusion_matrix(y_test, pred_xgb))\n",
    "print(confusion_matrix(y_test, pred_rforest))\n",
    "print(confusion_matrix(y_test, pred_arvore))\n",
    "print(confusion_matrix(y_test, pred_log))\n",
    "print(confusion_matrix(y_test, pred_svc))\n",
    "print(confusion_matrix(y_test, pred_knn))"
   ]
  },
  {
   "cell_type": "code",
   "execution_count": 3077,
   "id": "ddf6a51e",
   "metadata": {},
   "outputs": [
    {
     "name": "stdout",
     "output_type": "stream",
     "text": [
      "0.7847640164713335\n",
      "0.8375567521908985\n",
      "0.77911519374934\n",
      "0.7685566466054271\n",
      "0.809946151409566\n",
      "0.7717770034843207\n"
     ]
    }
   ],
   "source": [
    "# ROC-AUC\n",
    "print(roc_auc_score(y_test, pred_xgb))\n",
    "print(roc_auc_score(y_test, pred_rforest))\n",
    "print(roc_auc_score(y_test, pred_arvore))\n",
    "print(roc_auc_score(y_test, pred_log))\n",
    "print(roc_auc_score(y_test, pred_svc))\n",
    "print(roc_auc_score(y_test, pred_knn))"
   ]
  },
  {
   "cell_type": "markdown",
   "id": "9c129e1f",
   "metadata": {},
   "source": [
    "<h1 id='fim'>5 - Considerações finais</h1>"
   ]
  },
  {
   "cell_type": "markdown",
   "id": "81265053",
   "metadata": {},
   "source": [
    "Comparei os dados no Excel para visualizar melhor, quem ganhou foi o modelo Random Forest com média de 81.65% nos resultados das métricas.\n",
    "\n",
    "[Análise Churn - Alunos de Academia](#inicio)"
   ]
  },
  {
   "cell_type": "markdown",
   "id": "0d7c01a7",
   "metadata": {},
   "source": [
    "Dumping do modelo"
   ]
  },
  {
   "cell_type": "code",
   "execution_count": 3078,
   "id": "4ef75eda",
   "metadata": {},
   "outputs": [
    {
     "data": {
      "text/plain": [
       "['..\\\\app\\\\modelo_churn.pkl']"
      ]
     },
     "execution_count": 3078,
     "metadata": {},
     "output_type": "execute_result"
    }
   ],
   "source": [
    "import joblib\n",
    "\n",
    "caminho = os.path.join('..', 'app', 'modelo_churn.pkl')\n",
    "joblib.dump(random_forest, caminho)"
   ]
  }
 ],
 "metadata": {
  "kernelspec": {
   "display_name": ".venv",
   "language": "python",
   "name": "python3"
  },
  "language_info": {
   "codemirror_mode": {
    "name": "ipython",
    "version": 3
   },
   "file_extension": ".py",
   "mimetype": "text/x-python",
   "name": "python",
   "nbconvert_exporter": "python",
   "pygments_lexer": "ipython3",
   "version": "3.13.2"
  }
 },
 "nbformat": 4,
 "nbformat_minor": 5
}
